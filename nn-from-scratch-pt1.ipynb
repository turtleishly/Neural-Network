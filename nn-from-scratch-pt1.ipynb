{
 "cells": [
  {
   "cell_type": "code",
   "execution_count": 1,
   "metadata": {
    "_cell_guid": "60c6d29a-865e-4eea-ab1d-5b696d30162b",
    "_uuid": "5df7c2ff-fa89-4c22-a565-deee458f5490",
    "collapsed": false,
    "execution": {
     "iopub.execute_input": "2025-06-07T01:26:27.181594Z",
     "iopub.status.busy": "2025-06-07T01:26:27.181181Z",
     "iopub.status.idle": "2025-06-07T01:26:29.949535Z",
     "shell.execute_reply": "2025-06-07T01:26:29.948573Z",
     "shell.execute_reply.started": "2025-06-07T01:26:27.181551Z"
    },
    "jupyter": {
     "outputs_hidden": false
    },
    "trusted": true
   },
   "outputs": [],
   "source": [
    "import numpy as np\n",
    "import pandas as pd\n",
    "from matplotlib import pyplot as plt\n",
    "\n",
    "data = pd.read_csv('train.csv')"
   ]
  },
  {
   "cell_type": "code",
   "execution_count": 2,
   "metadata": {
    "_cell_guid": "533d9a92-4885-4eef-b34e-fea9036c95b4",
    "_uuid": "ba6812f1-f1d1-43c4-a889-584dd8aec85d",
    "collapsed": false,
    "execution": {
     "iopub.execute_input": "2025-06-07T01:26:29.952238Z",
     "iopub.status.busy": "2025-06-07T01:26:29.951916Z",
     "iopub.status.idle": "2025-06-07T01:26:30.112344Z",
     "shell.execute_reply": "2025-06-07T01:26:30.111126Z",
     "shell.execute_reply.started": "2025-06-07T01:26:29.952205Z"
    },
    "jupyter": {
     "outputs_hidden": false
    },
    "trusted": true
   },
   "outputs": [],
   "source": [
    "data= np.array(data)"
   ]
  },
  {
   "cell_type": "code",
   "execution_count": 3,
   "metadata": {},
   "outputs": [
    {
     "data": {
      "text/plain": [
       "42000"
      ]
     },
     "execution_count": 3,
     "metadata": {},
     "output_type": "execute_result"
    }
   ],
   "source": [
    "len(data)"
   ]
  },
  {
   "cell_type": "code",
   "execution_count": 4,
   "metadata": {},
   "outputs": [],
   "source": [
    "#Train test split 80:20\n",
    "test = data[int(len(data)*0.8):]\n",
    "\n",
    "train = data[:int(len(data)*0.8)]"
   ]
  },
  {
   "cell_type": "code",
   "execution_count": 5,
   "metadata": {},
   "outputs": [
    {
     "data": {
      "text/plain": [
       "33600"
      ]
     },
     "execution_count": 5,
     "metadata": {},
     "output_type": "execute_result"
    }
   ],
   "source": [
    "len(train)"
   ]
  },
  {
   "cell_type": "code",
   "execution_count": 6,
   "metadata": {},
   "outputs": [
    {
     "data": {
      "text/plain": [
       "8400"
      ]
     },
     "execution_count": 6,
     "metadata": {},
     "output_type": "execute_result"
    }
   ],
   "source": [
    "len(test)"
   ]
  },
  {
   "cell_type": "code",
   "execution_count": 7,
   "metadata": {
    "_cell_guid": "74489681-d544-4d54-bc8b-3530e2916c15",
    "_uuid": "0d6365da-00ee-49a8-be82-b0f4bb4440eb",
    "collapsed": false,
    "execution": {
     "iopub.execute_input": "2025-06-07T01:26:30.115006Z",
     "iopub.status.busy": "2025-06-07T01:26:30.114629Z",
     "iopub.status.idle": "2025-06-07T01:26:30.122704Z",
     "shell.execute_reply": "2025-06-07T01:26:30.121583Z",
     "shell.execute_reply.started": "2025-06-07T01:26:30.114972Z"
    },
    "jupyter": {
     "outputs_hidden": false
    },
    "trusted": true
   },
   "outputs": [
    {
     "data": {
      "text/plain": [
       "785"
      ]
     },
     "execution_count": 7,
     "metadata": {},
     "output_type": "execute_result"
    }
   ],
   "source": [
    "len(train[0]) # 1 label col, 784 pixel values"
   ]
  },
  {
   "cell_type": "code",
   "execution_count": 8,
   "metadata": {
    "_cell_guid": "9e5dce9b-cbed-48ac-a577-49ca2e5e8c35",
    "_uuid": "b61dff26-ede7-4efc-b09a-029633713404",
    "collapsed": false,
    "execution": {
     "iopub.execute_input": "2025-06-07T01:26:30.125566Z",
     "iopub.status.busy": "2025-06-07T01:26:30.125012Z",
     "iopub.status.idle": "2025-06-07T01:26:30.142463Z",
     "shell.execute_reply": "2025-06-07T01:26:30.141313Z",
     "shell.execute_reply.started": "2025-06-07T01:26:30.125511Z"
    },
    "jupyter": {
     "outputs_hidden": false
    },
    "trusted": true
   },
   "outputs": [
    {
     "data": {
      "text/plain": [
       "33600"
      ]
     },
     "execution_count": 8,
     "metadata": {},
     "output_type": "execute_result"
    }
   ],
   "source": [
    "digit_labels = train[:,0] #label col separated out\n",
    "len(digit_labels)"
   ]
  },
  {
   "cell_type": "code",
   "execution_count": 9,
   "metadata": {
    "_cell_guid": "743a9707-3968-484d-aacc-1aa4476674cc",
    "_uuid": "081a4978-87ac-44ae-a51d-b4664c21be62",
    "collapsed": false,
    "execution": {
     "iopub.execute_input": "2025-06-07T01:26:30.146660Z",
     "iopub.status.busy": "2025-06-07T01:26:30.146255Z",
     "iopub.status.idle": "2025-06-07T01:26:30.174655Z",
     "shell.execute_reply": "2025-06-07T01:26:30.173740Z",
     "shell.execute_reply.started": "2025-06-07T01:26:30.146622Z"
    },
    "jupyter": {
     "outputs_hidden": false
    },
    "trusted": true
   },
   "outputs": [
    {
     "data": {
      "text/plain": [
       "42"
      ]
     },
     "execution_count": 9,
     "metadata": {},
     "output_type": "execute_result"
    }
   ],
   "source": [
    "# TEMPORARILY MADE INTO 42 instances to not f up PC\n",
    "digit_pixels = train[:42,1:] #training data, 42000 instances of 28x28 pixel values ,then scaling to 0-1\n",
    "len(digit_pixels)"
   ]
  },
  {
   "cell_type": "code",
   "execution_count": 10,
   "metadata": {
    "_cell_guid": "3cc1a7f7-52b9-4569-9dc7-42c13c8ae186",
    "_uuid": "35520289-5604-4f92-b29f-0e6f2f57c0b1",
    "collapsed": false,
    "execution": {
     "iopub.execute_input": "2025-06-07T01:26:30.176909Z",
     "iopub.status.busy": "2025-06-07T01:26:30.176615Z",
     "iopub.status.idle": "2025-06-07T01:26:30.192902Z",
     "shell.execute_reply": "2025-06-07T01:26:30.191818Z",
     "shell.execute_reply.started": "2025-06-07T01:26:30.176881Z"
    },
    "jupyter": {
     "outputs_hidden": false
    },
    "trusted": true
   },
   "outputs": [
    {
     "data": {
      "text/plain": [
       "784"
      ]
     },
     "execution_count": 10,
     "metadata": {},
     "output_type": "execute_result"
    }
   ],
   "source": [
    "\n",
    "weights = np.random.uniform(-0.0001,0.0001,size=(10,784))\n",
    "\n",
    "len(weights[0])"
   ]
  },
  {
   "cell_type": "code",
   "execution_count": 11,
   "metadata": {
    "_cell_guid": "6a7fd43f-8926-4eb0-a202-1cc9a5957c87",
    "_uuid": "51bfa551-a6c3-45e6-8786-3dec33055e4a",
    "collapsed": false,
    "execution": {
     "iopub.execute_input": "2025-06-07T01:26:30.194767Z",
     "iopub.status.busy": "2025-06-07T01:26:30.194401Z",
     "iopub.status.idle": "2025-06-07T01:26:30.209237Z",
     "shell.execute_reply": "2025-06-07T01:26:30.208003Z",
     "shell.execute_reply.started": "2025-06-07T01:26:30.194736Z"
    },
    "jupyter": {
     "outputs_hidden": false
    },
    "trusted": true
   },
   "outputs": [
    {
     "data": {
      "text/plain": [
       "array([ 0.01450097,  0.00174535,  0.02366215,  0.01321934,  0.05561376,\n",
       "        0.01677179, -0.06680002,  0.01238687, -0.05452103, -0.05316519])"
      ]
     },
     "execution_count": 11,
     "metadata": {},
     "output_type": "execute_result"
    }
   ],
   "source": [
    "bias = np.random.uniform(-0.1,0.1,10)\n",
    "\n",
    "bias"
   ]
  },
  {
   "cell_type": "code",
   "execution_count": 12,
   "metadata": {
    "_cell_guid": "853efd78-6624-4811-8ac0-6cafccbf38f1",
    "_uuid": "a21ddc64-bbd8-482f-b90a-0d231bdc4926",
    "collapsed": false,
    "execution": {
     "iopub.execute_input": "2025-06-07T01:26:30.211479Z",
     "iopub.status.busy": "2025-06-07T01:26:30.211040Z",
     "iopub.status.idle": "2025-06-07T01:26:30.223698Z",
     "shell.execute_reply": "2025-06-07T01:26:30.222392Z",
     "shell.execute_reply.started": "2025-06-07T01:26:30.211401Z"
    },
    "jupyter": {
     "outputs_hidden": false
    },
    "trusted": true
   },
   "outputs": [],
   "source": [
    "def sigmoid(x): #sigmoid func to squish all inputs into range 0 to 1\n",
    "    return 1 / (1 + np.exp(-x))"
   ]
  },
  {
   "cell_type": "code",
   "execution_count": 13,
   "metadata": {
    "execution": {
     "iopub.execute_input": "2025-06-07T01:26:30.225470Z",
     "iopub.status.busy": "2025-06-07T01:26:30.225016Z",
     "iopub.status.idle": "2025-06-07T01:26:30.240016Z",
     "shell.execute_reply": "2025-06-07T01:26:30.238954Z",
     "shell.execute_reply.started": "2025-06-07T01:26:30.225398Z"
    },
    "trusted": true
   },
   "outputs": [
    {
     "data": {
      "text/plain": [
       "array([-0.06893485, -0.11166313, -0.13881483,  0.09741783,  0.08142572,\n",
       "       -0.09993679, -0.02442895,  0.04445895,  0.02671694, -0.07368261])"
      ]
     },
     "execution_count": 13,
     "metadata": {},
     "output_type": "execute_result"
    }
   ],
   "source": [
    "weights @ digit_pixels[3] + bias"
   ]
  },
  {
   "cell_type": "code",
   "execution_count": 14,
   "metadata": {
    "_cell_guid": "0957cb7c-0b1d-49e7-b042-e07a3900a811",
    "_uuid": "3e18ae73-ae89-4a7f-a369-727558e962de",
    "collapsed": false,
    "execution": {
     "iopub.execute_input": "2025-06-07T01:26:30.241727Z",
     "iopub.status.busy": "2025-06-07T01:26:30.241361Z",
     "iopub.status.idle": "2025-06-07T01:26:30.257095Z",
     "shell.execute_reply": "2025-06-07T01:26:30.255823Z",
     "shell.execute_reply.started": "2025-06-07T01:26:30.241694Z"
    },
    "jupyter": {
     "outputs_hidden": false
    },
    "trusted": true
   },
   "outputs": [
    {
     "data": {
      "text/plain": [
       "array([0.46826437, 0.48921233, 0.53974376, 0.54503692, 0.48795143,\n",
       "       0.50446737, 0.49597242, 0.52434299, 0.51266741, 0.50720831])"
      ]
     },
     "execution_count": 14,
     "metadata": {},
     "output_type": "execute_result"
    }
   ],
   "source": [
    "output=sigmoid(weights @ digit_pixels[41] + bias) # @ is matrix multiplication \n",
    "output"
   ]
  },
  {
   "cell_type": "code",
   "execution_count": 15,
   "metadata": {
    "_cell_guid": "72d1dd32-25bd-4410-b4f5-2022f023226f",
    "_uuid": "7d711878-7feb-419d-b158-5104dcf438fe",
    "collapsed": false,
    "execution": {
     "iopub.execute_input": "2025-06-07T01:26:30.259509Z",
     "iopub.status.busy": "2025-06-07T01:26:30.258968Z",
     "iopub.status.idle": "2025-06-07T01:26:30.274690Z",
     "shell.execute_reply": "2025-06-07T01:26:30.273679Z",
     "shell.execute_reply.started": "2025-06-07T01:26:30.259455Z"
    },
    "jupyter": {
     "outputs_hidden": false
    },
    "trusted": true
   },
   "outputs": [
    {
     "name": "stdout",
     "output_type": "stream",
     "text": [
      "[0. 1. 0. 0. 0. 0. 0. 0. 0. 0.] digit = 1\n"
     ]
    }
   ],
   "source": [
    "x=0 \n",
    "one_hot = np.zeros(10)\n",
    "one_hot[digit_labels[x]]=1 #One hot encoder e.g. [0,0,0,1,0,0,0,0,0] for calculating cost func \n",
    "print(one_hot, \"digit =\", digit_labels[x])"
   ]
  },
  {
   "cell_type": "code",
   "execution_count": 16,
   "metadata": {
    "_cell_guid": "fa7ac906-1d42-42a0-b0ee-2074b2e04ad0",
    "_uuid": "87dd1d07-e777-4d59-b1d6-e4202aba9112",
    "collapsed": false,
    "execution": {
     "iopub.execute_input": "2025-06-07T01:26:30.276224Z",
     "iopub.status.busy": "2025-06-07T01:26:30.275878Z",
     "iopub.status.idle": "2025-06-07T01:26:30.292110Z",
     "shell.execute_reply": "2025-06-07T01:26:30.290896Z",
     "shell.execute_reply.started": "2025-06-07T01:26:30.276192Z"
    },
    "jupyter": {
     "outputs_hidden": false
    },
    "trusted": true
   },
   "outputs": [
    {
     "data": {
      "text/plain": [
       "array([0.21927152, 0.26090404, 0.29132333, 0.29706525, 0.2380966 ,\n",
       "       0.25448733, 0.24598864, 0.27493557, 0.26282788, 0.25726027])"
      ]
     },
     "execution_count": 16,
     "metadata": {},
     "output_type": "execute_result"
    }
   ],
   "source": [
    "cost = (one_hot - output)**2 #Calculating cost function\n",
    "cost"
   ]
  },
  {
   "cell_type": "code",
   "execution_count": 17,
   "metadata": {
    "execution": {
     "iopub.execute_input": "2025-06-07T01:26:30.294497Z",
     "iopub.status.busy": "2025-06-07T01:26:30.293996Z",
     "iopub.status.idle": "2025-06-07T01:26:30.312781Z",
     "shell.execute_reply": "2025-06-07T01:26:30.311510Z",
     "shell.execute_reply.started": "2025-06-07T01:26:30.294446Z"
    },
    "trusted": true
   },
   "outputs": [
    {
     "data": {
      "text/plain": [
       "array([ 0.01450097,  0.00174535,  0.02366215,  0.01321934,  0.05561376,\n",
       "        0.01677179, -0.06680002,  0.01238687, -0.05452103, -0.05316519])"
      ]
     },
     "execution_count": 17,
     "metadata": {},
     "output_type": "execute_result"
    }
   ],
   "source": [
    "bias"
   ]
  },
  {
   "cell_type": "code",
   "execution_count": 18,
   "metadata": {
    "_cell_guid": "8075e919-88ca-4fbe-9a0e-4e293e5d95bf",
    "_uuid": "c1da04d4-42b9-4d9c-b1b8-597f60ae876b",
    "execution": {
     "iopub.execute_input": "2025-06-07T01:43:17.809185Z",
     "iopub.status.busy": "2025-06-07T01:43:17.808786Z"
    },
    "trusted": true
   },
   "outputs": [],
   "source": [
    "# The MAIN block\n",
    "learning_rate = -0.1\n",
    "\n",
    "for t in range(1):\n",
    "    digit_pixels = ((train[t*42:42*(t+1),1:] - np.min(train[t*42:42*(t+1),1:]))/(np.max(train[t*42:42*(t+1),1:])-np.min(train[t*42:42*(t+1),1:]))) #Scaling to 0-1\n",
    "\n",
    "    for _ in range(50): #training on repeat\n",
    "        dCdw = np.zeros(shape=(10,784))\n",
    "        dCdb = np.zeros(10)\n",
    "        cost = 0\n",
    "        \n",
    "        for i in range (len(digit_pixels)): #Now just iterate through all training examples\n",
    "        \n",
    "            #Forward Propagation\n",
    "            z = weights @ digit_pixels[i] + bias\n",
    "            output = sigmoid(z)\n",
    "            \n",
    "            one_hot = np.zeros(10)\n",
    "            one_hot[digit_labels[i]]=1\n",
    "        \n",
    "            cost = cost + np.sum((one_hot - output)**2)\n",
    "            \n",
    "            #Backpropagation calculus\n",
    "        \n",
    "            dC_da = -2*(one_hot - output)\n",
    "            dadz = (np.exp(-z) / (1 + np.exp(-z))**2)\n",
    "            \n",
    "            for x in range (len(weights[0])): #iterating through weights column by column\n",
    "                # weights              \n",
    "                dzdw = digit_pixels[i,x] #This one input, affects a whole column of weights\n",
    "                dC_dw = dC_da * dadz * dzdw\n",
    "                weights[:,x] += learning_rate*dC_dw/len(digit_pixels)\n",
    "     \n",
    "            #Biases\n",
    "            dzdb = 1\n",
    "            dC_db = dC_da * dadz * dzdb\n",
    "            bias += learning_rate*dC_db/len(digit_pixels)\n",
    "        \n",
    "        #Updating weights\n",
    "        #weights += dCdw\n",
    "        #bias += dCdb\n",
    "            \n"
   ]
  },
  {
   "cell_type": "code",
   "execution_count": 19,
   "metadata": {
    "trusted": true
   },
   "outputs": [
    {
     "data": {
      "text/plain": [
       "13.39906250571421"
      ]
     },
     "execution_count": 19,
     "metadata": {},
     "output_type": "execute_result"
    }
   ],
   "source": [
    "cost"
   ]
  },
  {
   "cell_type": "code",
   "execution_count": 20,
   "metadata": {},
   "outputs": [],
   "source": [
    "test_label = test[:,0]\n",
    "test_pixels = (test[:,1:] -np.min(test[:,1:]))/(np.max(test[:,1:])-np.min(test[:,1:]))"
   ]
  },
  {
   "cell_type": "code",
   "execution_count": 21,
   "metadata": {},
   "outputs": [
    {
     "name": "stdout",
     "output_type": "stream",
     "text": [
      "0.5341666666666667\n"
     ]
    }
   ],
   "source": [
    "correct_ans = []\n",
    "#check accuracy on test set\n",
    "correct = 0\n",
    "for i in range(len(test)):\n",
    "    z = weights @ test_pixels[i] + bias\n",
    "    output = sigmoid(z)\n",
    "\n",
    "    if test_label[i] == np.argmax(output):\n",
    "        correct += 1\n",
    "        correct_ans.append([test_label[i],i])\n",
    "        \n",
    "        \n",
    "print(correct/len(test))\n",
    "\n",
    "        \n"
   ]
  },
  {
   "cell_type": "code",
   "execution_count": 22,
   "metadata": {},
   "outputs": [
    {
     "name": "stdout",
     "output_type": "stream",
     "text": [
      "1.0\n"
     ]
    }
   ],
   "source": [
    "#Check accuracy on training set\n",
    "correct = 0\n",
    "for i in range(42):\n",
    "    z = weights @ digit_pixels[i] + bias\n",
    "    output = sigmoid(z)\n",
    "\n",
    "    if digit_labels[i] == np.argmax(output):\n",
    "        correct += 1\n",
    "        \n",
    "print(correct/42)"
   ]
  },
  {
   "cell_type": "code",
   "execution_count": 23,
   "metadata": {},
   "outputs": [
    {
     "name": "stdout",
     "output_type": "stream",
     "text": [
      "0.10535714285714286\n"
     ]
    }
   ],
   "source": [
    "#random guess and check (10%)\n",
    "correct = 0\n",
    "for i in range(len(test)):\n",
    "\n",
    "    if test_label[i] == np.random.randint(0,10):\n",
    "        correct += 1\n",
    "        \n",
    "print(correct/len(test))\n"
   ]
  },
  {
   "cell_type": "code",
   "execution_count": 24,
   "metadata": {},
   "outputs": [
    {
     "name": "stdout",
     "output_type": "stream",
     "text": [
      "@@@@@@@@@@@@@@@@@@@@@@@@@@@@\n",
      "@@@@@@@@@@@@@@@@@@@@@@@@@@@@\n",
      "@@@@@@@@@@@@@@@@@@@@@@@@@@@@\n",
      "@@@@@@@@@@@@@@@@@@@@@@@@@@@@\n",
      "@@@@@@@@@@@@@@@@@@@@@@@@@@@@\n",
      "@@@@@@@@@@@%+++%@@@@@@@@@@@@\n",
      "@@@@@@@@*=.-...=*@@@@@@@@@@@\n",
      "@@@@@@*...........+@@@@@@@@@\n",
      "@@@@@%.............:%@@@@@@@\n",
      "@@@@@+....======-...:%@@@@@@\n",
      "@@@@@#..:%@@@@@@@%:..*@@@@@@\n",
      "@@@@@@*=*@@@@@@@@#-..*@@@@@@\n",
      "@@@@@@@@@@@@@@@@@:..-@@@@@@@\n",
      "@@@@@@@@@@@@@@@%:...*@@@@@@@\n",
      "@@@@@@@@@@@@@@=:...-@@@@@@@@\n",
      "@@@@@@@@@@@@@=...:-@@@@@@@@@\n",
      "@@@@@@@@@@*-:...:@@@@@@@@@@@\n",
      "@@@@@@%*-:.......-*@@@@@@@@@\n",
      "@@@@@-.............:*@@@@@@@\n",
      "@@@@@ .....::::......:*@@@@@\n",
      "@@@@@*=..**@@@@@*+.....*@@@@\n",
      "@@@@@@@@@@@@@@@@@@@+....#@@@\n",
      "@@@@@@@@@@@@@@@@@@@@#....@@@\n",
      "@@@@@@@@@@@@@@@@@@@@@#...@@@\n",
      "@@@@@@@@@@@@@@@@@@@@@@+++@@@\n",
      "@@@@@@@@@@@@@@@@@@@@@@@@@@@@\n",
      "@@@@@@@@@@@@@@@@@@@@@@@@@@@@\n",
      "@@@@@@@@@@@@@@@@@@@@@@@@@@@@\n"
     ]
    }
   ],
   "source": [
    "#Check how it actually looks\n",
    "ascii_chars = \"@%#*+=-:. \"\n",
    "scale = len(ascii_chars) - 1\n",
    "\n",
    "pixels = test_pixels[164]  # 784-length flattened image\n",
    "\n",
    "for i in range(28):\n",
    "    row = pixels[i * 28:(i + 1) * 28]\n",
    "    line = ''.join([ascii_chars[min(int(p * scale), scale)] for p in row])\n",
    "    print(line)\n"
   ]
  },
  {
   "cell_type": "code",
   "execution_count": 25,
   "metadata": {},
   "outputs": [],
   "source": [
    "from PIL import Image\n",
    "\n",
    "img = Image.open(\"number.png\") #Replace your_image.jpg with the path to your image"
   ]
  },
  {
   "cell_type": "code",
   "execution_count": 26,
   "metadata": {},
   "outputs": [
    {
     "data": {
      "image/png": "[encoded data removed]",
      "text/plain": [
       "<PIL.PngImagePlugin.PngImageFile image mode=RGBA size=28x28>"
      ]
     },
     "execution_count": 26,
     "metadata": {},
     "output_type": "execute_result"
    }
   ],
   "source": [
    "img"
   ]
  },
  {
   "cell_type": "code",
   "execution_count": 27,
   "metadata": {},
   "outputs": [],
   "source": [
    "img_array = np.array(img)"
   ]
  },
  {
   "cell_type": "code",
   "execution_count": 28,
   "metadata": {},
   "outputs": [],
   "source": [
    "img_array = (img_array[:,:,0]).flatten()"
   ]
  },
  {
   "cell_type": "code",
   "execution_count": 29,
   "metadata": {},
   "outputs": [
    {
     "name": "stdout",
     "output_type": "stream",
     "text": [
      "@@@@@@@@@@@@@@@@@@@@@@@@@@@@\n",
      "@@@@@@@@@@@@@@@@@@@@@@@@@@@@\n",
      "@@@@@@       @@@@@@@@@@@@@@@\n",
      "@@@@@            @@@@@@@@@@@\n",
      "@@@@             @@@@@@@@@@@\n",
      "@@@      @        @@@@@@@@@@\n",
      "@@@     @@@@@     @@@@@@@@@@\n",
      "@@@    @@@@@@@    @@@@@@@@@@\n",
      "@@@   @@@@@@@@    @@@@@@@@@@\n",
      "@@@   @@@@@@@     @@@@@@@@@@\n",
      "@@@    @@@@@      @@@@@@@@@@\n",
      "@@@      @@      @@@@@@@@@@@\n",
      "@@@             @@@@@@@@@@@@\n",
      "@@@@            @@@@@@@@@@@@\n",
      "@@@@@@             @@@@@@@@@\n",
      "@@@@@@@@             @@@@@@@\n",
      "@@@@@@@@              @@@@@@\n",
      "@@@@@@@     @@@@      @@@@@@\n",
      "@@@@@@@    @@@@@@@     @@@@@\n",
      "@@@@@@@    @@@@@@@@    @@@@@\n",
      "@@@@@@@    @@@@@@@@    @@@@@\n",
      "@@@@@@@     @@@@@@@    @@@@@\n",
      "@@@@@@@       @@@      @@@@@\n",
      "@@@@@@@@               @@@@@\n",
      "@@@@@@@@@             @@@@@@\n",
      "@@@@@@@@@@@         @@@@@@@@\n",
      "@@@@@@@@@@@@@@@@@@@@@@@@@@@@\n",
      "@@@@@@@@@@@@@@@@@@@@@@@@@@@@\n"
     ]
    }
   ],
   "source": [
    "#Check how it actually looks\n",
    "ascii_chars = \"@%#*+=-:. \"\n",
    "scale = len(ascii_chars) - 1\n",
    "\n",
    "pixels = img_array  # 784-length flattened image\n",
    "\n",
    "for i in range(28):\n",
    "    row = pixels[i * 28:(i + 1) * 28]\n",
    "    line = ''.join([ascii_chars[min(int(p * scale), scale)] for p in row])\n",
    "    print(line)\n"
   ]
  },
  {
   "cell_type": "code",
   "execution_count": 30,
   "metadata": {},
   "outputs": [],
   "source": [
    "z = weights @ test_pixels[164] + bias\n",
    "output = sigmoid(z)"
   ]
  },
  {
   "cell_type": "code",
   "execution_count": 31,
   "metadata": {},
   "outputs": [
    {
     "name": "stdout",
     "output_type": "stream",
     "text": [
      "[0.08237401 0.02622382 0.21341344 0.06929656 0.05372317 0.03281192\n",
      " 0.06243028 0.12901288 0.06283475 0.09943481] 2\n"
     ]
    }
   ],
   "source": [
    "print(output, output.argmax())"
   ]
  },
  {
   "cell_type": "code",
   "execution_count": null,
   "metadata": {},
   "outputs": [],
   "source": []
  }
 ],
 "metadata": {
  "kaggle": {
   "accelerator": "none",
   "dataSources": [
    {
     "databundleVersionId": 861823,
     "isSourceIdPinned": false,
     "sourceId": 3004,
     "sourceType": "competition"
    }
   ],
   "dockerImageVersionId": 30035,
   "isGpuEnabled": false,
   "isInternetEnabled": false,
   "language": "python",
   "sourceType": "notebook"
  },
  "kernelspec": {
   "display_name": "base",
   "language": "python",
   "name": "python3"
  },
  "language_info": {
   "codemirror_mode": {
    "name": "ipython",
    "version": 3
   },
   "file_extension": ".py",
   "mimetype": "text/x-python",
   "name": "python",
   "nbconvert_exporter": "python",
   "pygments_lexer": "ipython3",
   "version": "3.9.13"
  }
 },
 "nbformat": 4,
 "nbformat_minor": 4
}
